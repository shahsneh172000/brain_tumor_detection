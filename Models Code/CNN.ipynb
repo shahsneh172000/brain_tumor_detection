{
 "cells": [
  {
   "cell_type": "code",
   "execution_count": 1,
   "metadata": {},
   "outputs": [],
   "source": [
    "import numpy as np\n",
    "import pandas as pd\n",
    "import seaborn as sn\n",
    "import cv2\n",
    "import matplotlib.pyplot as plt"
   ]
  },
  {
   "cell_type": "code",
   "execution_count": 2,
   "metadata": {},
   "outputs": [],
   "source": [
    "import os\n",
    "d = os.listdir()\n",
    "path = []\n",
    "path.append(os.listdir('.\\\\Kaggle\\\\yes'))\n",
    "path.append(os.listdir('.\\\\Kaggle\\\\no'))\n",
    "path = {'yes':path[0],'no':path[1]}"
   ]
  },
  {
   "cell_type": "code",
   "execution_count": 4,
   "metadata": {},
   "outputs": [],
   "source": [
    "x,y = [],[]\n",
    "s = r\"C:\\Users\\Sneh\\Documents\\Project\\Brain Tumor Detection\\Kaggle\"\n",
    "classification_dict = {'yes':1,'no':0}\n",
    "for i in path.keys():\n",
    "    for j in path[i]:\n",
    "        img = cv2.imread(s + '\\\\' + i + '\\\\' + j)\n",
    "        img = cv2.resize(img, (128, 128))\n",
    "#         gray = cv2.cvtColor(img,cv2.COLOR_BGR2GRAY)\n",
    "        x.append(img)\n",
    "        y.append(classification_dict[i])  \n",
    "x = np.array(x)\n",
    "y = np.array(y)"
   ]
  },
  {
   "cell_type": "code",
   "execution_count": 30,
   "metadata": {},
   "outputs": [],
   "source": [
    "from sklearn.model_selection import train_test_split\n",
    "x_train, x_test, y_train, y_test = train_test_split(x, y,test_size=0.2 ,random_state=0)"
   ]
  },
  {
   "cell_type": "code",
   "execution_count": 31,
   "metadata": {},
   "outputs": [],
   "source": [
    "from tensorflow.keras.utils import normalize\n",
    "x_train = normalize( x_train, axis =1)\n",
    "x_test = normalize( x_test, axis =1)"
   ]
  },
  {
   "cell_type": "code",
   "execution_count": 32,
   "metadata": {},
   "outputs": [
    {
     "name": "stdout",
     "output_type": "stream",
     "text": [
      "Model: \"sequential_1\"\n",
      "_________________________________________________________________\n",
      " Layer (type)                Output Shape              Param #   \n",
      "=================================================================\n",
      " conv2d_3 (Conv2D)           (None, 126, 126, 32)      896       \n",
      "                                                                 \n",
      " activation_5 (Activation)   (None, 126, 126, 32)      0         \n",
      "                                                                 \n",
      " max_pooling2d_3 (MaxPooling  (None, 63, 63, 32)       0         \n",
      " 2D)                                                             \n",
      "                                                                 \n",
      " conv2d_4 (Conv2D)           (None, 61, 61, 64)        18496     \n",
      "                                                                 \n",
      " activation_6 (Activation)   (None, 61, 61, 64)        0         \n",
      "                                                                 \n",
      " max_pooling2d_4 (MaxPooling  (None, 30, 30, 64)       0         \n",
      " 2D)                                                             \n",
      "                                                                 \n",
      " conv2d_5 (Conv2D)           (None, 28, 28, 128)       73856     \n",
      "                                                                 \n",
      " activation_7 (Activation)   (None, 28, 28, 128)       0         \n",
      "                                                                 \n",
      " max_pooling2d_5 (MaxPooling  (None, 14, 14, 128)      0         \n",
      " 2D)                                                             \n",
      "                                                                 \n",
      " flatten_1 (Flatten)         (None, 25088)             0         \n",
      "                                                                 \n",
      " dense_2 (Dense)             (None, 256)               6422784   \n",
      "                                                                 \n",
      " activation_8 (Activation)   (None, 256)               0         \n",
      "                                                                 \n",
      " dropout_1 (Dropout)         (None, 256)               0         \n",
      "                                                                 \n",
      " dense_3 (Dense)             (None, 1)                 257       \n",
      "                                                                 \n",
      " activation_9 (Activation)   (None, 1)                 0         \n",
      "                                                                 \n",
      "=================================================================\n",
      "Total params: 6,516,289\n",
      "Trainable params: 6,516,289\n",
      "Non-trainable params: 0\n",
      "_________________________________________________________________\n"
     ]
    }
   ],
   "source": [
    "import tensorflow as tf\n",
    "from tensorflow import keras\n",
    "from keras.models import Sequential\n",
    "from keras.layers import Conv2D, MaxPooling2D\n",
    "from keras.layers import Activation, Dropout, Flatten, Dense\n",
    "\n",
    "# Building a simple CNN model\n",
    "model = Sequential()\n",
    "\n",
    "model.add(Conv2D(32, (3,3), input_shape = (128, 128, 3)))\n",
    "model.add(Activation('relu'))\n",
    "model.add(MaxPooling2D(pool_size=(2,2)))\n",
    "\n",
    "model.add(Conv2D(64, (3,3), kernel_initializer = 'he_uniform'))\n",
    "model.add(Activation('relu'))\n",
    "model.add(MaxPooling2D(pool_size=(2,2)))\n",
    "\n",
    "model.add(Conv2D(128, (3,3),  kernel_initializer = 'he_uniform'))\n",
    "model.add(Activation('relu'))\n",
    "model.add(MaxPooling2D(pool_size=(2,2)))\n",
    "\n",
    "model.add(Flatten())\n",
    "model.add(Dense(256))\n",
    "model.add(Activation('relu'))\n",
    "model.add(Dropout(0.5))\n",
    "model.add(Dense(1))\n",
    "#model.add(Dense(2))\n",
    "model.add(Activation('sigmoid'))\n",
    "# model.add(Activation('softmax'))\n",
    "model.summary()"
   ]
  },
  {
   "cell_type": "code",
   "execution_count": 33,
   "metadata": {},
   "outputs": [
    {
     "name": "stdout",
     "output_type": "stream",
     "text": [
      "You must install pydot (`pip install pydot`) and install graphviz (see instructions at https://graphviz.gitlab.io/download/) for plot_model to work.\n"
     ]
    }
   ],
   "source": [
    "tf.keras.utils.plot_model(model,\n",
    "                          to_file=\"model.png\",\n",
    "                          show_shapes=True,\n",
    "                          expand_nested=True)"
   ]
  },
  {
   "cell_type": "code",
   "execution_count": 34,
   "metadata": {},
   "outputs": [],
   "source": [
    "model.compile(loss='binary_crossentropy',optimizer='adam',metrics=['accuracy'])"
   ]
  },
  {
   "cell_type": "code",
   "execution_count": 41,
   "metadata": {},
   "outputs": [
    {
     "name": "stdout",
     "output_type": "stream",
     "text": [
      "Epoch 1/15\n",
      "150/150 [==============================] - 50s 322ms/step - loss: 0.0141 - accuracy: 0.9946 - val_loss: 0.2453 - val_accuracy: 0.9567\n",
      "Epoch 2/15\n",
      "150/150 [==============================] - 47s 314ms/step - loss: 0.0133 - accuracy: 0.9937 - val_loss: 0.2845 - val_accuracy: 0.9633\n",
      "Epoch 3/15\n",
      "150/150 [==============================] - 48s 318ms/step - loss: 0.0365 - accuracy: 0.9858 - val_loss: 0.1922 - val_accuracy: 0.9700\n",
      "Epoch 4/15\n",
      "150/150 [==============================] - 50s 335ms/step - loss: 0.0059 - accuracy: 0.9983 - val_loss: 0.1772 - val_accuracy: 0.9667\n",
      "Epoch 5/15\n",
      "150/150 [==============================] - 49s 328ms/step - loss: 0.0048 - accuracy: 0.9983 - val_loss: 0.2183 - val_accuracy: 0.9533\n",
      "Epoch 6/15\n",
      "150/150 [==============================] - 49s 327ms/step - loss: 0.0044 - accuracy: 0.9983 - val_loss: 0.3154 - val_accuracy: 0.9600\n",
      "Epoch 7/15\n",
      "150/150 [==============================] - 49s 327ms/step - loss: 0.0018 - accuracy: 0.9992 - val_loss: 0.2328 - val_accuracy: 0.9667\n",
      "Epoch 8/15\n",
      "150/150 [==============================] - 52s 346ms/step - loss: 2.1700e-04 - accuracy: 1.0000 - val_loss: 0.2513 - val_accuracy: 0.9633\n",
      "Epoch 9/15\n",
      "150/150 [==============================] - 55s 365ms/step - loss: 5.8181e-05 - accuracy: 1.0000 - val_loss: 0.2526 - val_accuracy: 0.9600\n",
      "Epoch 10/15\n",
      "150/150 [==============================] - 56s 375ms/step - loss: 5.3780e-05 - accuracy: 1.0000 - val_loss: 0.2607 - val_accuracy: 0.9600\n",
      "Epoch 11/15\n",
      "150/150 [==============================] - 55s 368ms/step - loss: 8.6108e-05 - accuracy: 1.0000 - val_loss: 0.2545 - val_accuracy: 0.9600\n",
      "Epoch 12/15\n",
      "150/150 [==============================] - 55s 364ms/step - loss: 8.8437e-04 - accuracy: 0.9996 - val_loss: 0.2133 - val_accuracy: 0.9667\n",
      "Epoch 13/15\n",
      "150/150 [==============================] - 55s 364ms/step - loss: 4.5455e-04 - accuracy: 1.0000 - val_loss: 0.2631 - val_accuracy: 0.9667\n",
      "Epoch 14/15\n",
      "150/150 [==============================] - 54s 362ms/step - loss: 5.7307e-05 - accuracy: 1.0000 - val_loss: 0.2730 - val_accuracy: 0.9667\n",
      "Epoch 15/15\n",
      "150/150 [==============================] - 54s 361ms/step - loss: 2.0079e-05 - accuracy: 1.0000 - val_loss: 0.2776 - val_accuracy: 0.9633\n"
     ]
    },
    {
     "data": {
      "text/plain": [
       "<keras.callbacks.History at 0x205845a42e0>"
      ]
     },
     "execution_count": 41,
     "metadata": {},
     "output_type": "execute_result"
    }
   ],
   "source": [
    "model.fit(x_train, y_train, \n",
    "batch_size = 16, \n",
    "verbose = 1, epochs = 15, \n",
    "validation_data = (x_test[:300], y_test[:300]),\n",
    "shuffle = 'False')"
   ]
  },
  {
   "cell_type": "code",
   "execution_count": 42,
   "metadata": {},
   "outputs": [],
   "source": [
    "model.save('Brain Tumor detection2.h5')"
   ]
  },
  {
   "cell_type": "code",
   "execution_count": 41,
   "metadata": {},
   "outputs": [],
   "source": [
    "y_pred_class = []\n",
    "for i in y_pred:\n",
    "    if i > 0.25:\n",
    "        y_pred_class.append(1)\n",
    "    else:\n",
    "        y_pred_class.append(0)"
   ]
  },
  {
   "cell_type": "code",
   "execution_count": 47,
   "metadata": {},
   "outputs": [],
   "source": [
    "train_acc = model.evaluate(x_train,y_train, verbose=0)\n",
    "test_acc = model.evaluate(x_test, y_test, verbose=0)"
   ]
  },
  {
   "cell_type": "code",
   "execution_count": 48,
   "metadata": {},
   "outputs": [
    {
     "name": "stdout",
     "output_type": "stream",
     "text": [
      "Training Acc: [3.3914242521859705e-05, 1.0]\n",
      "Test Acc: [0.15384836494922638, 0.9816666841506958]\n"
     ]
    }
   ],
   "source": [
    "print('Training Acc:',train_acc)\n",
    "print('Test Acc:',test_acc)"
   ]
  },
  {
   "cell_type": "code",
   "execution_count": 46,
   "metadata": {},
   "outputs": [],
   "source": [
    "from keras.models import load_model\n",
    "model = load_model('Brain Tumor detection.h5')"
   ]
  }
 ],
 "metadata": {
  "kernelspec": {
   "display_name": "Python 3",
   "language": "python",
   "name": "python3"
  },
  "language_info": {
   "codemirror_mode": {
    "name": "ipython",
    "version": 3
   },
   "file_extension": ".py",
   "mimetype": "text/x-python",
   "name": "python",
   "nbconvert_exporter": "python",
   "pygments_lexer": "ipython3",
   "version": "3.8.5"
  }
 },
 "nbformat": 4,
 "nbformat_minor": 4
}
