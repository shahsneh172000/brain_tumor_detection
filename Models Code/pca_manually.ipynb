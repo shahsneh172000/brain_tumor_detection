{
 "cells": [
  {
   "cell_type": "code",
   "execution_count": 45,
   "metadata": {},
   "outputs": [],
   "source": [
    "import numpy as np\n",
    "import pandas as pd\n",
    "import matplotlib.pyplot as plt\n",
    "from sklearn.decomposition import PCA\n",
    "from sklearn.model_selection import train_test_split\n",
    "from sklearn.metrics import accuracy_score"
   ]
  },
  {
   "cell_type": "code",
   "execution_count": 46,
   "metadata": {},
   "outputs": [],
   "source": [
    "import os\n",
    "\n",
    "path = os.listdir('./Kaggle/')\n",
    "classes = {'yes':1, 'no':0}\n"
   ]
  },
  {
   "cell_type": "code",
   "execution_count": 47,
   "metadata": {},
   "outputs": [],
   "source": [
    "def pca_manually(img):\n",
    "    M = np.mean(img.T, axis=1)\n",
    "\n",
    "    # Sustracting the mean columnwise\n",
    "    C = img - M\n",
    "\n",
    "    # Calculating the covariance matrix\n",
    "    V = np.cov(C.T)\n",
    "\n",
    "    # Computing the eigenvalues and eigenvectors of covarince matrix\n",
    "    values, vectors = np.linalg.eig(V)\n",
    "\n",
    "    p = np.size(vectors, axis =1)\n",
    "\n",
    "    # Sorting the eigen values in ascending order\n",
    "    idx = np.argsort(values)\n",
    "    idx = idx[::-1]\n",
    "\n",
    "    # Sorting eigen vectors\n",
    "    vectors = vectors[:,idx]\n",
    "    values = values[idx]\n",
    "\n",
    "    # PCs used for reconstruction (can be varied)\n",
    "    num_PC = 55\n",
    "\n",
    "    # Cutting the PCs\n",
    "    if num_PC <p or num_PC >0:\n",
    "        vectors = vectors[:, range(num_PC)]\n",
    "\n",
    "    # Reconstructing the image with PCs\n",
    "    score = np.dot(vectors.T, C)\n",
    "    constructed_img = np.dot(vectors, score) + M\n",
    "    constructed_img = np.uint8(np.absolute(constructed_img))\n",
    "    return constructed_img"
   ]
  },
  {
   "cell_type": "code",
   "execution_count": 48,
   "metadata": {},
   "outputs": [],
   "source": [
    "import cv2\n",
    "X = []\n",
    "Y = []\n",
    "for cls in classes:\n",
    "    pth = './Kaggle/'+cls\n",
    "    for j in os.listdir(pth):\n",
    "        img = cv2.imread(pth+'/' + j)\n",
    "        img = cv2.cvtColor(img, cv2.COLOR_BGR2GRAY)\n",
    "        img = cv2.resize(img, (64,64))\n",
    "        img_pca = pca_manually(img)\n",
    "        X.append(img_pca)\n",
    "        Y.append(classes[cls])\n",
    "        "
   ]
  },
  {
   "cell_type": "code",
   "execution_count": 49,
   "metadata": {},
   "outputs": [
    {
     "data": {
      "text/plain": [
       "array([0, 1])"
      ]
     },
     "execution_count": 49,
     "metadata": {},
     "output_type": "execute_result"
    }
   ],
   "source": [
    "np.unique(Y)"
   ]
  },
  {
   "cell_type": "code",
   "execution_count": 50,
   "metadata": {},
   "outputs": [],
   "source": [
    "X = np.array(X)\n",
    "Y = np.array(Y)"
   ]
  },
  {
   "cell_type": "code",
   "execution_count": 51,
   "metadata": {},
   "outputs": [
    {
     "data": {
      "text/plain": [
       "1    1500\n",
       "0    1500\n",
       "dtype: int64"
      ]
     },
     "execution_count": 51,
     "metadata": {},
     "output_type": "execute_result"
    }
   ],
   "source": [
    "pd.Series(Y).value_counts()"
   ]
  },
  {
   "cell_type": "code",
   "execution_count": 52,
   "metadata": {},
   "outputs": [
    {
     "data": {
      "text/plain": [
       "(3000, 4096)"
      ]
     },
     "execution_count": 52,
     "metadata": {},
     "output_type": "execute_result"
    }
   ],
   "source": [
    "X_updated = X.reshape(len(X),-1)\n",
    "X_updated.shape"
   ]
  },
  {
   "cell_type": "code",
   "execution_count": 53,
   "metadata": {},
   "outputs": [],
   "source": [
    "xtrain, xtest, ytrain, ytest = train_test_split(X_updated, Y, random_state=10, test_size=0.20)"
   ]
  },
  {
   "cell_type": "code",
   "execution_count": 54,
   "metadata": {},
   "outputs": [
    {
     "data": {
      "text/plain": [
       "((2400, 4096), (600, 4096))"
      ]
     },
     "execution_count": 54,
     "metadata": {},
     "output_type": "execute_result"
    }
   ],
   "source": [
    "xtrain.shape, xtest.shape"
   ]
  },
  {
   "cell_type": "code",
   "execution_count": 55,
   "metadata": {},
   "outputs": [
    {
     "name": "stdout",
     "output_type": "stream",
     "text": [
      "255 0\n",
      "255 0\n",
      "1.0 0.0\n",
      "1.0 0.0\n"
     ]
    }
   ],
   "source": [
    "print(xtrain.max(), xtrain.min())\n",
    "print(xtest.max(), xtest.min())\n",
    "xtrain =xtrain/255\n",
    "xtest = xtest/255\n",
    "print(xtrain.max(), xtrain.min())\n",
    "print(xtest.max(), xtest.min())"
   ]
  },
  {
   "cell_type": "code",
   "execution_count": 56,
   "metadata": {},
   "outputs": [],
   "source": [
    "from sklearn.svm import SVC\n",
    "\n",
    "from sklearn import metrics"
   ]
  },
  {
   "cell_type": "code",
   "execution_count": 57,
   "metadata": {},
   "outputs": [
    {
     "data": {
      "text/plain": [
       "SVC(C=9.0)"
      ]
     },
     "execution_count": 57,
     "metadata": {},
     "output_type": "execute_result"
    }
   ],
   "source": [
    "sv =  SVC(C=9.0,kernel='rbf')\n",
    "sv.fit(xtrain, ytrain)"
   ]
  },
  {
   "cell_type": "code",
   "execution_count": 58,
   "metadata": {},
   "outputs": [
    {
     "name": "stdout",
     "output_type": "stream",
     "text": [
      "Training Score: 1.0\n",
      "Testing Score: 0.975\n",
      "Accuracy 0.975\n",
      "Precision 0.9749216300940439\n",
      "Recall 0.9779874213836478\n"
     ]
    }
   ],
   "source": [
    "print(\"Training Score:\", sv.score(xtrain, ytrain))\n",
    "print(\"Testing Score:\", sv.score(xtest, ytest))\n",
    "print('Accuracy',metrics.accuracy_score(ytest,sv.predict(xtest)))\n",
    "print('Precision',metrics.precision_score(ytest,sv.predict(xtest)))\n",
    "print('Recall',metrics.recall_score(ytest,sv.predict(xtest)))"
   ]
  },
  {
   "cell_type": "code",
   "execution_count": 59,
   "metadata": {},
   "outputs": [
    {
     "data": {
      "text/plain": [
       "['svm_pca.pkl']"
      ]
     },
     "execution_count": 59,
     "metadata": {},
     "output_type": "execute_result"
    }
   ],
   "source": [
    "import joblib\n",
    "joblib.dump(sv,'svm_pca.pkl')"
   ]
  },
  {
   "cell_type": "code",
   "execution_count": 30,
   "metadata": {},
   "outputs": [
    {
     "data": {
      "text/plain": [
       "SVC(C=9.0, kernel='linear')"
      ]
     },
     "execution_count": 30,
     "metadata": {},
     "output_type": "execute_result"
    }
   ],
   "source": [
    "sv =  SVC(C=9.0,kernel='linear')\n",
    "sv.fit(xtrain, ytrain)"
   ]
  },
  {
   "cell_type": "code",
   "execution_count": 34,
   "metadata": {},
   "outputs": [
    {
     "name": "stdout",
     "output_type": "stream",
     "text": [
      "Training Score: 1.0\n",
      "Testing Score: 0.9422222222222222\n",
      "Accuracy 0.9422222222222222\n",
      "Precision 0.9701149425287356\n",
      "Recall 0.9154013015184381\n"
     ]
    }
   ],
   "source": [
    "print(\"Training Score:\", sv.score(xtrain, ytrain))\n",
    "print(\"Testing Score:\", sv.score(xtest, ytest))\n",
    "print('Accuracy',metrics.accuracy_score(ytest,sv.predict(xtest)))\n",
    "print('Precision',metrics.precision_score(ytest,sv.predict(xtest)))\n",
    "print('Recall',metrics.recall_score(ytest,sv.predict(xtest)))"
   ]
  },
  {
   "cell_type": "code",
   "execution_count": 35,
   "metadata": {},
   "outputs": [
    {
     "data": {
      "text/plain": [
       "SVC(C=9.0, kernel='poly')"
      ]
     },
     "execution_count": 35,
     "metadata": {},
     "output_type": "execute_result"
    }
   ],
   "source": [
    "sv =  SVC(C=9.0,kernel='poly')\n",
    "sv.fit(xtrain, ytrain)"
   ]
  },
  {
   "cell_type": "code",
   "execution_count": 36,
   "metadata": {},
   "outputs": [
    {
     "name": "stdout",
     "output_type": "stream",
     "text": [
      "Training Score: 0.9995238095238095\n",
      "Testing Score: 0.9266666666666666\n",
      "Accuracy 0.9266666666666666\n",
      "Precision 0.9625292740046838\n",
      "Recall 0.8915401301518439\n"
     ]
    }
   ],
   "source": [
    "print(\"Training Score:\", sv.score(xtrain, ytrain))\n",
    "print(\"Testing Score:\", sv.score(xtest, ytest))\n",
    "print('Accuracy',metrics.accuracy_score(ytest,sv.predict(xtest)))\n",
    "print('Precision',metrics.precision_score(ytest,sv.predict(xtest)))\n",
    "print('Recall',metrics.recall_score(ytest,sv.predict(xtest)))"
   ]
  },
  {
   "cell_type": "code",
   "execution_count": null,
   "metadata": {},
   "outputs": [],
   "source": []
  },
  {
   "cell_type": "code",
   "execution_count": null,
   "metadata": {},
   "outputs": [],
   "source": []
  },
  {
   "cell_type": "code",
   "execution_count": null,
   "metadata": {},
   "outputs": [],
   "source": []
  }
 ],
 "metadata": {
  "kernelspec": {
   "display_name": "Python 3",
   "language": "python",
   "name": "python3"
  },
  "language_info": {
   "codemirror_mode": {
    "name": "ipython",
    "version": 3
   },
   "file_extension": ".py",
   "mimetype": "text/x-python",
   "name": "python",
   "nbconvert_exporter": "python",
   "pygments_lexer": "ipython3",
   "version": "3.8.5"
  }
 },
 "nbformat": 4,
 "nbformat_minor": 5
}
