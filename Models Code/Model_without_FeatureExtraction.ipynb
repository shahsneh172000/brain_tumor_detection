{
 "cells": [
  {
   "cell_type": "code",
   "execution_count": 1,
   "metadata": {},
   "outputs": [],
   "source": [
    "import numpy as np\n",
    "import pandas as pd\n",
    "import seaborn as sn\n",
    "import cv2\n",
    "import matplotlib.pyplot as plt"
   ]
  },
  {
   "cell_type": "code",
   "execution_count": 2,
   "metadata": {},
   "outputs": [],
   "source": [
    "import os\n",
    "d = os.listdir()\n",
    "path = []\n",
    "path.append(os.listdir('.\\\\Kaggle\\\\yes'))\n",
    "path.append(os.listdir('.\\\\Kaggle\\\\no'))\n",
    "path = {'yes':path[0],'no':path[1]}"
   ]
  },
  {
   "cell_type": "code",
   "execution_count": 12,
   "metadata": {},
   "outputs": [],
   "source": [
    "x,y = [],[]\n",
    "s = \"c:\\\\Users\\\\Sneh\\\\Documents\\\\Project\\\\Brain Tumor Detection\\\\Kaggle\"\n",
    "classification_dict = {'yes':1,'no':0}\n",
    "for i in path.keys():\n",
    "    for j in path[i]:\n",
    "        img = cv2.imread(s + '\\\\' + i + '\\\\' + j,0)\n",
    "        # gray = cv2.cvtColor(img,cv2.COLOR_BGR2GRAY)\n",
    "        rimg = cv2.resize(img, (32,32))\n",
    "        x.append(rimg)\n",
    "        y.append(classification_dict[i])  \n"
   ]
  },
  {
   "cell_type": "code",
   "execution_count": 13,
   "metadata": {},
   "outputs": [
    {
     "data": {
      "text/plain": [
       "(32, 32)"
      ]
     },
     "execution_count": 13,
     "metadata": {},
     "output_type": "execute_result"
    }
   ],
   "source": [
    "x[1].shape"
   ]
  },
  {
   "cell_type": "code",
   "execution_count": 15,
   "metadata": {},
   "outputs": [
    {
     "data": {
      "text/plain": [
       "(3000, 1024)"
      ]
     },
     "execution_count": 15,
     "metadata": {},
     "output_type": "execute_result"
    }
   ],
   "source": [
    "x = np.array(x).reshape(len(x),32*32).astype(float)\n",
    "x.shape"
   ]
  },
  {
   "cell_type": "code",
   "execution_count": 16,
   "metadata": {},
   "outputs": [],
   "source": [
    "from sklearn.svm import SVC\n",
    "from sklearn.preprocessing import StandardScaler\n",
    "from sklearn.model_selection import train_test_split\n",
    "from sklearn.pipeline import Pipeline\n",
    "from sklearn.metrics import classification_report"
   ]
  },
  {
   "cell_type": "code",
   "execution_count": 17,
   "metadata": {},
   "outputs": [],
   "source": [
    "X_train, X_test, y_train, y_test = train_test_split(x, y,test_size=0.2 ,random_state=10)"
   ]
  },
  {
   "cell_type": "code",
   "execution_count": 19,
   "metadata": {},
   "outputs": [],
   "source": [
    "st =StandardScaler()\n",
    "st.fit(X_train)\n",
    "X_train = st.transform(X_train)\n",
    "X_test = st.transform(X_test)"
   ]
  },
  {
   "cell_type": "code",
   "execution_count": 21,
   "metadata": {},
   "outputs": [
    {
     "name": "stdout",
     "output_type": "stream",
     "text": [
      "Training Accuracy :  1.0\n",
      "Testing Accuracy :  0.9466666666666667\n"
     ]
    }
   ],
   "source": [
    "svc = SVC(kernel='linear')\n",
    "svc.fit(X_train,y_train)\n",
    "print('Training Accuracy : ' , svc.score(X_train,y_train))\n",
    "print('Testing Accuracy : ' , svc.score(X_test,y_test))"
   ]
  },
  {
   "cell_type": "code",
   "execution_count": 46,
   "metadata": {},
   "outputs": [
    {
     "name": "stdout",
     "output_type": "stream",
     "text": [
      "1.0\n",
      "1.0\n",
      "1.0\n"
     ]
    }
   ],
   "source": [
    "from sklearn import metrics\n",
    "print(metrics.accuracy_score(y_train,svc.predict(X_train)))\n",
    "print(metrics.precision_score(y_train,svc.predict(X_train)))\n",
    "print(metrics.recall_score(y_train,svc.predict(X_train)))"
   ]
  },
  {
   "cell_type": "code",
   "execution_count": 47,
   "metadata": {},
   "outputs": [
    {
     "name": "stdout",
     "output_type": "stream",
     "text": [
      "0.9666666666666667\n",
      "0.9775641025641025\n",
      "0.9591194968553459\n"
     ]
    }
   ],
   "source": [
    "print(metrics.accuracy_score(y_test,svc.predict(X_test)))\n",
    "print(metrics.precision_score(y_test,svc.predict(X_test)))\n",
    "print(metrics.recall_score(y_test,svc.predict(X_test)))"
   ]
  },
  {
   "cell_type": "code",
   "execution_count": 48,
   "metadata": {},
   "outputs": [
    {
     "name": "stdout",
     "output_type": "stream",
     "text": [
      "Training Accuracy :  1.0\n",
      "Training Accuracy :  0.9666666666666667\n"
     ]
    }
   ],
   "source": [
    "print('Training Accuracy : ' , svc.score(X_train,y_train))\n",
    "print('Training Accuracy : ' , svc.score(X_test,y_test))"
   ]
  }
 ],
 "metadata": {
  "kernelspec": {
   "display_name": "Python 3",
   "language": "python",
   "name": "python3"
  },
  "language_info": {
   "codemirror_mode": {
    "name": "ipython",
    "version": 3
   },
   "file_extension": ".py",
   "mimetype": "text/x-python",
   "name": "python",
   "nbconvert_exporter": "python",
   "pygments_lexer": "ipython3",
   "version": "3.8.5"
  },
  "vscode": {
   "interpreter": {
    "hash": "d059ac85ce92c3ae774dccd0f44368aeb3e2841a57a706993030ee7067b6e388"
   }
  }
 },
 "nbformat": 4,
 "nbformat_minor": 2
}
